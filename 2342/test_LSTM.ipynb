{
 "cells": [
  {
   "cell_type": "code",
   "execution_count": 1,
   "metadata": {},
   "outputs": [
    {
     "name": "stderr",
     "output_type": "stream",
     "text": [
      "/Users/yupeng/anaconda3/lib/python3.6/site-packages/h5py/__init__.py:36: FutureWarning: Conversion of the second argument of issubdtype from `float` to `np.floating` is deprecated. In future, it will be treated as `np.float64 == np.dtype(float).type`.\n",
      "  from ._conv import register_converters as _register_converters\n",
      "Using TensorFlow backend.\n"
     ]
    }
   ],
   "source": [
    "# Importing the libraries\n",
    "import numpy as np\n",
    "import matplotlib.pyplot as plt\n",
    "plt.style.use('fivethirtyeight')\n",
    "import pandas as pd\n",
    "from sklearn.preprocessing import MinMaxScaler\n",
    "from keras.models import Sequential\n",
    "from keras.layers import Dense, LSTM, Dropout, GRU, Bidirectional\n",
    "from keras.optimizers import SGD\n",
    "import math\n",
    "from sklearn.metrics import mean_squared_error"
   ]
  },
  {
   "cell_type": "code",
   "execution_count": 2,
   "metadata": {},
   "outputs": [],
   "source": [
    "# Some functions to help out with\n",
    "def plot_predictions(test,predicted):\n",
    "    plt.plot(test, color='red',label='Real IBM Stock Price')\n",
    "    plt.plot(predicted, color='blue',label='Predicted IBM Stock Price')\n",
    "    plt.title('IBM Stock Price Prediction')\n",
    "    plt.xlabel('Time')\n",
    "    plt.ylabel('IBM Stock Price')\n",
    "    plt.legend()\n",
    "    plt.show()\n",
    "\n",
    "def return_rmse(test,predicted):\n",
    "    rmse = math.sqrt(mean_squared_error(test, predicted))\n",
    "    print(\"The root mean squared error is {}.\".format(rmse))"
   ]
  },
  {
   "cell_type": "code",
   "execution_count": 89,
   "metadata": {},
   "outputs": [
    {
     "data": {
      "text/html": [
       "<div>\n",
       "<style scoped>\n",
       "    .dataframe tbody tr th:only-of-type {\n",
       "        vertical-align: middle;\n",
       "    }\n",
       "\n",
       "    .dataframe tbody tr th {\n",
       "        vertical-align: top;\n",
       "    }\n",
       "\n",
       "    .dataframe thead th {\n",
       "        text-align: right;\n",
       "    }\n",
       "</style>\n",
       "<table border=\"1\" class=\"dataframe\">\n",
       "  <thead>\n",
       "    <tr style=\"text-align: right;\">\n",
       "      <th></th>\n",
       "      <th>Open</th>\n",
       "      <th>High</th>\n",
       "      <th>Low</th>\n",
       "      <th>Close</th>\n",
       "      <th>Volume</th>\n",
       "      <th>Name</th>\n",
       "    </tr>\n",
       "    <tr>\n",
       "      <th>Date</th>\n",
       "      <th></th>\n",
       "      <th></th>\n",
       "      <th></th>\n",
       "      <th></th>\n",
       "      <th></th>\n",
       "      <th></th>\n",
       "    </tr>\n",
       "  </thead>\n",
       "  <tbody>\n",
       "    <tr>\n",
       "      <th>2017-12-22</th>\n",
       "      <td>151.82</td>\n",
       "      <td>153.00</td>\n",
       "      <td>151.50</td>\n",
       "      <td>152.50</td>\n",
       "      <td>2990583</td>\n",
       "      <td>IBM</td>\n",
       "    </tr>\n",
       "    <tr>\n",
       "      <th>2017-12-26</th>\n",
       "      <td>152.51</td>\n",
       "      <td>153.86</td>\n",
       "      <td>152.50</td>\n",
       "      <td>152.83</td>\n",
       "      <td>2479017</td>\n",
       "      <td>IBM</td>\n",
       "    </tr>\n",
       "    <tr>\n",
       "      <th>2017-12-27</th>\n",
       "      <td>152.95</td>\n",
       "      <td>153.18</td>\n",
       "      <td>152.61</td>\n",
       "      <td>153.13</td>\n",
       "      <td>2149257</td>\n",
       "      <td>IBM</td>\n",
       "    </tr>\n",
       "    <tr>\n",
       "      <th>2017-12-28</th>\n",
       "      <td>153.20</td>\n",
       "      <td>154.12</td>\n",
       "      <td>153.20</td>\n",
       "      <td>154.04</td>\n",
       "      <td>2687624</td>\n",
       "      <td>IBM</td>\n",
       "    </tr>\n",
       "    <tr>\n",
       "      <th>2017-12-29</th>\n",
       "      <td>154.17</td>\n",
       "      <td>154.72</td>\n",
       "      <td>153.42</td>\n",
       "      <td>153.42</td>\n",
       "      <td>3327087</td>\n",
       "      <td>IBM</td>\n",
       "    </tr>\n",
       "  </tbody>\n",
       "</table>\n",
       "</div>"
      ],
      "text/plain": [
       "              Open    High     Low   Close   Volume Name\n",
       "Date                                                    \n",
       "2017-12-22  151.82  153.00  151.50  152.50  2990583  IBM\n",
       "2017-12-26  152.51  153.86  152.50  152.83  2479017  IBM\n",
       "2017-12-27  152.95  153.18  152.61  153.13  2149257  IBM\n",
       "2017-12-28  153.20  154.12  153.20  154.04  2687624  IBM\n",
       "2017-12-29  154.17  154.72  153.42  153.42  3327087  IBM"
      ]
     },
     "execution_count": 89,
     "metadata": {},
     "output_type": "execute_result"
    }
   ],
   "source": [
    "# First, we get the data\n",
    "dataset = pd.read_csv('IBM_2006-01-01_to_2018-01-01.csv', index_col='Date', parse_dates=['Date'])\n",
    "dataset.tail()"
   ]
  },
  {
   "cell_type": "code",
   "execution_count": 25,
   "metadata": {},
   "outputs": [],
   "source": [
    "# Checking for missing values\n",
    "training_set = dataset[:'2016'].iloc[:,1:2].values\n",
    "test_set = dataset['2017':].iloc[:,1:2].values"
   ]
  },
  {
   "cell_type": "code",
   "execution_count": 88,
   "metadata": {},
   "outputs": [
    {
     "data": {
      "text/html": [
       "<div>\n",
       "<style scoped>\n",
       "    .dataframe tbody tr th:only-of-type {\n",
       "        vertical-align: middle;\n",
       "    }\n",
       "\n",
       "    .dataframe tbody tr th {\n",
       "        vertical-align: top;\n",
       "    }\n",
       "\n",
       "    .dataframe thead th {\n",
       "        text-align: right;\n",
       "    }\n",
       "</style>\n",
       "<table border=\"1\" class=\"dataframe\">\n",
       "  <thead>\n",
       "    <tr style=\"text-align: right;\">\n",
       "      <th></th>\n",
       "      <th>Open</th>\n",
       "      <th>High</th>\n",
       "      <th>Low</th>\n",
       "      <th>Close</th>\n",
       "      <th>Volume</th>\n",
       "      <th>Name</th>\n",
       "    </tr>\n",
       "    <tr>\n",
       "      <th>Date</th>\n",
       "      <th></th>\n",
       "      <th></th>\n",
       "      <th></th>\n",
       "      <th></th>\n",
       "      <th></th>\n",
       "      <th></th>\n",
       "    </tr>\n",
       "  </thead>\n",
       "  <tbody>\n",
       "    <tr>\n",
       "      <th>2017-12-22</th>\n",
       "      <td>151.82</td>\n",
       "      <td>153.00</td>\n",
       "      <td>151.50</td>\n",
       "      <td>152.50</td>\n",
       "      <td>2990583</td>\n",
       "      <td>IBM</td>\n",
       "    </tr>\n",
       "    <tr>\n",
       "      <th>2017-12-26</th>\n",
       "      <td>152.51</td>\n",
       "      <td>153.86</td>\n",
       "      <td>152.50</td>\n",
       "      <td>152.83</td>\n",
       "      <td>2479017</td>\n",
       "      <td>IBM</td>\n",
       "    </tr>\n",
       "    <tr>\n",
       "      <th>2017-12-27</th>\n",
       "      <td>152.95</td>\n",
       "      <td>153.18</td>\n",
       "      <td>152.61</td>\n",
       "      <td>153.13</td>\n",
       "      <td>2149257</td>\n",
       "      <td>IBM</td>\n",
       "    </tr>\n",
       "    <tr>\n",
       "      <th>2017-12-28</th>\n",
       "      <td>153.20</td>\n",
       "      <td>154.12</td>\n",
       "      <td>153.20</td>\n",
       "      <td>154.04</td>\n",
       "      <td>2687624</td>\n",
       "      <td>IBM</td>\n",
       "    </tr>\n",
       "    <tr>\n",
       "      <th>2017-12-29</th>\n",
       "      <td>154.17</td>\n",
       "      <td>154.72</td>\n",
       "      <td>153.42</td>\n",
       "      <td>153.42</td>\n",
       "      <td>3327087</td>\n",
       "      <td>IBM</td>\n",
       "    </tr>\n",
       "  </tbody>\n",
       "</table>\n",
       "</div>"
      ],
      "text/plain": [
       "              Open    High     Low   Close   Volume Name\n",
       "Date                                                    \n",
       "2017-12-22  151.82  153.00  151.50  152.50  2990583  IBM\n",
       "2017-12-26  152.51  153.86  152.50  152.83  2479017  IBM\n",
       "2017-12-27  152.95  153.18  152.61  153.13  2149257  IBM\n",
       "2017-12-28  153.20  154.12  153.20  154.04  2687624  IBM\n",
       "2017-12-29  154.17  154.72  153.42  153.42  3327087  IBM"
      ]
     },
     "execution_count": 88,
     "metadata": {},
     "output_type": "execute_result"
    }
   ],
   "source": [
    "dataset.tail()"
   ]
  },
  {
   "cell_type": "code",
   "execution_count": 90,
   "metadata": {},
   "outputs": [
    {
     "data": {
      "text/plain": [
       "Date\n",
       "2017-12-22    153.00\n",
       "2017-12-26    153.86\n",
       "2017-12-27    153.18\n",
       "2017-12-28    154.12\n",
       "2017-12-29    154.72\n",
       "Name: High, dtype: float64"
      ]
     },
     "execution_count": 90,
     "metadata": {},
     "output_type": "execute_result"
    }
   ],
   "source": [
    "dataset_total.tail()"
   ]
  },
  {
   "cell_type": "code",
   "execution_count": 91,
   "metadata": {},
   "outputs": [
    {
     "data": {
      "text/plain": [
       "251"
      ]
     },
     "execution_count": 91,
     "metadata": {},
     "output_type": "execute_result"
    }
   ],
   "source": [
    "len(test_set)"
   ]
  },
  {
   "cell_type": "code",
   "execution_count": 27,
   "metadata": {},
   "outputs": [
    {
     "data": {
      "image/png": "[encoded data removed]",
      "text/plain": [
       "<Figure size 1152x288 with 1 Axes>"
      ]
     },
     "metadata": {},
     "output_type": "display_data"
    }
   ],
   "source": [
    "# We have chosen 'High' attribute for prices. Let's see what it looks like\n",
    "dataset[\"High\"][:'2016'].plot(figsize=(16,4),legend=True)\n",
    "dataset[\"High\"]['2017':].plot(figsize=(16,4),legend=True)\n",
    "plt.legend(['Training set (Before 2017)','Test set (2017 and beyond)'])\n",
    "plt.title('IBM stock price')\n",
    "plt.show()"
   ]
  },
  {
   "cell_type": "code",
   "execution_count": 28,
   "metadata": {},
   "outputs": [],
   "source": [
    "# Scaling the training set\n",
    "sc = MinMaxScaler(feature_range=(0,1))\n",
    "training_set_scaled = sc.fit_transform(training_set)"
   ]
  },
  {
   "cell_type": "code",
   "execution_count": 49,
   "metadata": {},
   "outputs": [
    {
     "data": {
      "text/plain": [
       "2769"
      ]
     },
     "execution_count": 49,
     "metadata": {},
     "output_type": "execute_result"
    }
   ],
   "source": [
    "len(dataset[\"High\"][:'2016'])"
   ]
  },
  {
   "cell_type": "code",
   "execution_count": 34,
   "metadata": {},
   "outputs": [],
   "source": [
    "# Since LSTMs store long term memory state, we create a data structure with 60 timesteps and 1 output\n",
    "# So for each element of training set, we have 60 previous training set elements \n",
    "X_train = []\n",
    "y_train = []\n",
    "for i in range(60,2769):\n",
    "    X_train.append(training_set_scaled[i-60:i,0])\n",
    "    y_train.append(training_set_scaled[i,0])\n",
    "X_train, y_train = np.array(X_train), np.array(y_train)"
   ]
  },
  {
   "cell_type": "code",
   "execution_count": 51,
   "metadata": {},
   "outputs": [
    {
     "data": {
      "text/plain": [
       "array([[0.06065089, 0.06029868, 0.06311637, ..., 0.0656523 , 0.06656805,\n",
       "        0.06769513],\n",
       "       [0.06029868, 0.06311637, 0.0781206 , ..., 0.06656805, 0.06769513,\n",
       "        0.06875176],\n",
       "       [0.06311637, 0.0781206 , 0.07262609, ..., 0.06769513, 0.06875176,\n",
       "        0.06804734],\n",
       "       ...,\n",
       "       [0.594745  , 0.59587208, 0.59094111, ..., 0.66420118, 0.65898845,\n",
       "        0.66244012],\n",
       "       [0.59587208, 0.59094111, 0.58812342, ..., 0.65898845, 0.66244012,\n",
       "        0.66074951],\n",
       "       [0.59094111, 0.58812342, 0.59002536, ..., 0.66244012, 0.66074951,\n",
       "        0.65546633]])"
      ]
     },
     "execution_count": 51,
     "metadata": {},
     "output_type": "execute_result"
    }
   ],
   "source": [
    "X_train"
   ]
  },
  {
   "cell_type": "code",
   "execution_count": 50,
   "metadata": {},
   "outputs": [
    {
     "data": {
      "text/plain": [
       "2709"
      ]
     },
     "execution_count": 50,
     "metadata": {},
     "output_type": "execute_result"
    }
   ],
   "source": [
    "len(X_train)"
   ]
  },
  {
   "cell_type": "code",
   "execution_count": 61,
   "metadata": {},
   "outputs": [],
   "source": [
    "# Reshaping X_train for efficient modelling\n",
    "X_train = np.reshape(X_train, (X_train.shape[0],X_train.shape[1],1))"
   ]
  },
  {
   "cell_type": "code",
   "execution_count": 72,
   "metadata": {},
   "outputs": [
    {
     "data": {
      "text/plain": [
       "2709"
      ]
     },
     "execution_count": 72,
     "metadata": {},
     "output_type": "execute_result"
    }
   ],
   "source": [
    "X_train.shape[0]"
   ]
  },
  {
   "cell_type": "code",
   "execution_count": 74,
   "metadata": {},
   "outputs": [
    {
     "data": {
      "text/plain": [
       "<keras.engine.sequential.Sequential at 0x103c475c0>"
      ]
     },
     "execution_count": 74,
     "metadata": {},
     "output_type": "execute_result"
    }
   ],
   "source": [
    "Sequential()"
   ]
  },
  {
   "cell_type": "code",
   "execution_count": 11,
   "metadata": {},
   "outputs": [
    {
     "name": "stdout",
     "output_type": "stream",
     "text": [
      "Epoch 1/5\n",
      "2709/2709 [==============================] - 15s 5ms/step - loss: 0.0233\n",
      "Epoch 2/5\n",
      "2709/2709 [==============================] - 13s 5ms/step - loss: 0.0103\n",
      "Epoch 3/5\n",
      "2709/2709 [==============================] - 12s 5ms/step - loss: 0.0082\n",
      "Epoch 4/5\n",
      "2709/2709 [==============================] - 13s 5ms/step - loss: 0.0076\n",
      "Epoch 5/5\n",
      "2709/2709 [==============================] - 13s 5ms/step - loss: 0.0063\n"
     ]
    },
    {
     "data": {
      "text/plain": [
       "<keras.callbacks.History at 0x1a2e1d94a8>"
      ]
     },
     "execution_count": 11,
     "metadata": {},
     "output_type": "execute_result"
    }
   ],
   "source": [
    "# The LSTM architecture\n",
    "regressor = Sequential()\n",
    "# First LSTM layer with Dropout regularisation\n",
    "regressor.add(LSTM(units=50, return_sequences=True, input_shape=(X_train.shape[1],1)))\n",
    "regressor.add(Dropout(0.2))\n",
    "# Second LSTM layer\n",
    "regressor.add(LSTM(units=50, return_sequences=True))\n",
    "regressor.add(Dropout(0.2))\n",
    "# Third LSTM layer\n",
    "regressor.add(LSTM(units=50, return_sequences=True))\n",
    "regressor.add(Dropout(0.2))\n",
    "# Fourth LSTM layer\n",
    "regressor.add(LSTM(units=50))\n",
    "regressor.add(Dropout(0.2))\n",
    "# The output layer\n",
    "regressor.add(Dense(units=1))\n",
    "\n",
    "# Compiling the RNN\n",
    "regressor.compile(optimizer='rmsprop',loss='mean_squared_error')\n",
    "# Fitting to the training set\n",
    "regressor.fit(X_train,y_train,epochs=5,batch_size=32)"
   ]
  },
  {
   "cell_type": "code",
   "execution_count": 86,
   "metadata": {},
   "outputs": [],
   "source": [
    "# Now to get the test set ready in a similar way as the training set.\n",
    "# The following has been done so forst 60 entires of test set have 60 previous values which is impossible to get unless we take the whole \n",
    "# 'High' attribute data for processing\n",
    "dataset_total = pd.concat((dataset[\"High\"][:'2016'],dataset[\"High\"]['2017':]),axis=0)\n",
    "inputs = dataset_total[len(dataset_total)-len(test_set) - 60:].values\n",
    "inputs = inputs.reshape(-1,1)\n",
    "inputs  = sc.transform(inputs)\n"
   ]
  },
  {
   "cell_type": "code",
   "execution_count": 98,
   "metadata": {},
   "outputs": [
    {
     "data": {
      "text/plain": [
       "311"
      ]
     },
     "execution_count": 98,
     "metadata": {},
     "output_type": "execute_result"
    }
   ],
   "source": [
    "len(dataset_total[len(dataset_total)-len(test_set) - 60:])"
   ]
  },
  {
   "cell_type": "code",
   "execution_count": 96,
   "metadata": {},
   "outputs": [
    {
     "data": {
      "text/plain": [
       "2709"
      ]
     },
     "execution_count": 96,
     "metadata": {},
     "output_type": "execute_result"
    }
   ],
   "source": [
    "len(dataset_total)-len(test_set) - 60"
   ]
  },
  {
   "cell_type": "code",
   "execution_count": 94,
   "metadata": {},
   "outputs": [
    {
     "data": {
      "text/plain": [
       "3020"
      ]
     },
     "execution_count": 94,
     "metadata": {},
     "output_type": "execute_result"
    }
   ],
   "source": [
    "len(dataset_total)"
   ]
  },
  {
   "cell_type": "code",
   "execution_count": 95,
   "metadata": {},
   "outputs": [
    {
     "data": {
      "text/plain": [
       "3020"
      ]
     },
     "execution_count": 95,
     "metadata": {},
     "output_type": "execute_result"
    }
   ],
   "source": [
    "len(dataset)"
   ]
  },
  {
   "cell_type": "code",
   "execution_count": 80,
   "metadata": {},
   "outputs": [
    {
     "data": {
      "text/plain": [
       "2709"
      ]
     },
     "execution_count": 80,
     "metadata": {},
     "output_type": "execute_result"
    }
   ],
   "source": [
    "len(dataset_total)-len(test_set) - 60"
   ]
  },
  {
   "cell_type": "code",
   "execution_count": 82,
   "metadata": {},
   "outputs": [],
   "source": [
    "inputs=dataset_total[len(dataset_total)-len(test_set) - 60:].values"
   ]
  },
  {
   "cell_type": "code",
   "execution_count": 87,
   "metadata": {},
   "outputs": [
    {
     "data": {
      "text/plain": [
       "array([[0.58812342],\n",
       "       [0.59002536],\n",
       "       [0.59559031],\n",
       "       [0.58474218],\n",
       "       [0.57079459],\n",
       "       [0.56551141],\n",
       "       [0.57473936],\n",
       "       [0.57727529],\n",
       "       [0.54282897],\n",
       "       [0.55304311],\n",
       "       [0.55621302],\n",
       "       [0.5438856 ],\n",
       "       [0.54649197],\n",
       "       [0.54395604],\n",
       "       [0.55649479],\n",
       "       [0.56438433],\n",
       "       [0.56706114],\n",
       "       [0.56628628],\n",
       "       [0.5633277 ],\n",
       "       [0.55931248],\n",
       "       [0.56213018],\n",
       "       [0.56142575],\n",
       "       [0.57882502],\n",
       "       [0.57755706],\n",
       "       [0.57495069],\n",
       "       [0.61439842],\n",
       "       [0.61566638],\n",
       "       [0.61932939],\n",
       "       [0.6002395 ],\n",
       "       [0.6030572 ],\n",
       "       [0.60573401],\n",
       "       [0.61129896],\n",
       "       [0.62735982],\n",
       "       [0.62735982],\n",
       "       [0.62299239],\n",
       "       [0.62869822],\n",
       "       [0.63905325],\n",
       "       [0.63729219],\n",
       "       [0.63299521],\n",
       "       [0.62172443],\n",
       "       [0.60826994],\n",
       "       [0.61432798],\n",
       "       [0.61179205],\n",
       "       [0.64271626],\n",
       "       [0.64849253],\n",
       "       [0.65356438],\n",
       "       [0.65405748],\n",
       "       [0.67631727],\n",
       "       [0.67589462],\n",
       "       [0.67561285],\n",
       "       [0.67040011],\n",
       "       [0.65736827],\n",
       "       [0.66434207],\n",
       "       [0.66215835],\n",
       "       [0.66420118],\n",
       "       [0.65898845],\n",
       "       [0.66244012],\n",
       "       [0.66074951],\n",
       "       [0.65546633],\n",
       "       [0.6534235 ],\n",
       "       [0.66166526],\n",
       "       [0.67575373],\n",
       "       [0.6723725 ],\n",
       "       [0.67610595],\n",
       "       [0.67526064],\n",
       "       [0.66321499],\n",
       "       [0.66089039],\n",
       "       [0.66265145],\n",
       "       [0.66596224],\n",
       "       [0.66384897],\n",
       "       [0.66673711],\n",
       "       [0.65870668],\n",
       "       [0.6811778 ],\n",
       "       [0.68547478],\n",
       "       [0.71893491],\n",
       "       [0.74182868],\n",
       "       [0.73922232],\n",
       "       [0.74147647],\n",
       "       [0.72647225],\n",
       "       [0.71597633],\n",
       "       [0.71682164],\n",
       "       [0.71167935],\n",
       "       [0.72132995],\n",
       "       [0.71879403],\n",
       "       [0.73739081],\n",
       "       [0.72950127],\n",
       "       [0.73161454],\n",
       "       [0.73915187],\n",
       "       [0.74640744],\n",
       "       [0.74802761],\n",
       "       [0.7606368 ],\n",
       "       [0.76676529],\n",
       "       [0.75817132],\n",
       "       [0.75267681],\n",
       "       [0.75655114],\n",
       "       [0.76472246],\n",
       "       [0.75760778],\n",
       "       [0.75591716],\n",
       "       [0.75154973],\n",
       "       [0.76507467],\n",
       "       [0.76035503],\n",
       "       [0.75641026],\n",
       "       [0.75408566],\n",
       "       [0.75619893],\n",
       "       [0.75380389],\n",
       "       [0.74182868],\n",
       "       [0.7435193 ],\n",
       "       [0.73344604],\n",
       "       [0.72471119],\n",
       "       [0.7209073 ],\n",
       "       [0.74006762],\n",
       "       [0.72449986],\n",
       "       [0.72020287],\n",
       "       [0.72055509],\n",
       "       [0.71231333],\n",
       "       [0.71661031],\n",
       "       [0.71541279],\n",
       "       [0.70597351],\n",
       "       [0.71189067],\n",
       "       [0.70829811],\n",
       "       [0.70900254],\n",
       "       [0.71153846],\n",
       "       [0.71097492],\n",
       "       [0.7116089 ],\n",
       "       [0.72125951],\n",
       "       [0.70111299],\n",
       "       [0.6973091 ],\n",
       "       [0.69470273],\n",
       "       [0.6853339 ],\n",
       "       [0.68512257],\n",
       "       [0.68624965],\n",
       "       [0.68582699],\n",
       "       [0.68857425],\n",
       "       [0.62482389],\n",
       "       [0.62313328],\n",
       "       [0.62109045],\n",
       "       [0.61728656],\n",
       "       [0.62059735],\n",
       "       [0.61397577],\n",
       "       [0.60960834],\n",
       "       [0.61038321],\n",
       "       [0.60918569],\n",
       "       [0.60263454],\n",
       "       [0.60235278],\n",
       "       [0.60016906],\n",
       "       [0.57650042],\n",
       "       [0.56022823],\n",
       "       [0.55762187],\n",
       "       [0.55247957],\n",
       "       [0.5438856 ],\n",
       "       [0.54466047],\n",
       "       [0.54867568],\n",
       "       [0.56389124],\n",
       "       [0.56494787],\n",
       "       [0.54515356],\n",
       "       [0.55311355],\n",
       "       [0.55579036],\n",
       "       [0.56170752],\n",
       "       [0.55522682],\n",
       "       [0.56205974],\n",
       "       [0.55691744],\n",
       "       [0.55459284],\n",
       "       [0.55550859],\n",
       "       [0.55600169],\n",
       "       [0.55832629],\n",
       "       [0.55642434],\n",
       "       [0.55614258],\n",
       "       [0.56537053],\n",
       "       [0.55564948],\n",
       "       [0.56579318],\n",
       "       [0.58650324],\n",
       "       [0.57438715],\n",
       "       [0.57058326],\n",
       "       [0.5688222 ],\n",
       "       [0.5739645 ],\n",
       "       [0.57706396],\n",
       "       [0.57375317],\n",
       "       [0.57657087],\n",
       "       [0.57093547],\n",
       "       [0.56875176],\n",
       "       [0.5762891 ],\n",
       "       [0.57340096],\n",
       "       [0.57488025],\n",
       "       [0.57621865],\n",
       "       [0.5674838 ],\n",
       "       [0.57819104],\n",
       "       [0.57727529],\n",
       "       [0.56276416],\n",
       "       [0.56036912],\n",
       "       [0.56318681],\n",
       "       [0.5614962 ],\n",
       "       [0.5656523 ],\n",
       "       [0.56530008],\n",
       "       [0.56832911],\n",
       "       [0.56311637],\n",
       "       [0.56600451],\n",
       "       [0.53754579],\n",
       "       [0.52754297],\n",
       "       [0.5207805 ],\n",
       "       [0.51493378],\n",
       "       [0.51810369],\n",
       "       [0.51084813],\n",
       "       [0.50338123],\n",
       "       [0.50084531],\n",
       "       [0.50007044],\n",
       "       [0.50528318],\n",
       "       [0.50260637],\n",
       "       [0.50295858],\n",
       "       [0.50331079],\n",
       "       [0.50119752],\n",
       "       [0.48478445],\n",
       "       [0.47964215],\n",
       "       [0.48238941],\n",
       "       [0.48358693],\n",
       "       [0.48478445],\n",
       "       [0.4888701 ],\n",
       "       [0.48584108],\n",
       "       [0.4857002 ],\n",
       "       [0.47344322],\n",
       "       [0.46830093],\n",
       "       [0.47344322],\n",
       "       [0.48682728],\n",
       "       [0.49126515],\n",
       "       [0.49485771],\n",
       "       [0.49746407],\n",
       "       [0.48943364],\n",
       "       [0.48844745],\n",
       "       [0.49112426],\n",
       "       [0.49704142],\n",
       "       [0.49605523],\n",
       "       [0.49683009],\n",
       "       [0.49802761],\n",
       "       [0.4875317 ],\n",
       "       [0.50147929],\n",
       "       [0.51021414],\n",
       "       [0.50965061],\n",
       "       [0.51028459],\n",
       "       [0.50176106],\n",
       "       [0.50394477],\n",
       "       [0.50042265],\n",
       "       [0.50676247],\n",
       "       [0.50683291],\n",
       "       [0.50471964],\n",
       "       [0.5078191 ],\n",
       "       [0.51761059],\n",
       "       [0.51394759],\n",
       "       [0.50662158],\n",
       "       [0.50542406],\n",
       "       [0.51366582],\n",
       "       [0.51606086],\n",
       "       [0.5147929 ],\n",
       "       [0.5184559 ],\n",
       "       [0.51359538],\n",
       "       [0.52021696],\n",
       "       [0.52838828],\n",
       "       [0.52500704],\n",
       "       [0.52092139],\n",
       "       [0.52063962],\n",
       "       [0.51937165],\n",
       "       [0.51549732],\n",
       "       [0.61489152],\n",
       "       [0.61298957],\n",
       "       [0.62369682],\n",
       "       [0.62390814],\n",
       "       [0.60411383],\n",
       "       [0.58065652],\n",
       "       [0.57185123],\n",
       "       [0.56839955],\n",
       "       [0.56811778],\n",
       "       [0.57051282],\n",
       "       [0.57030149],\n",
       "       [0.56741336],\n",
       "       [0.56022823],\n",
       "       [0.54860524],\n",
       "       [0.54642153],\n",
       "       [0.54839391],\n",
       "       [0.54846436],\n",
       "       [0.5420541 ],\n",
       "       [0.52874049],\n",
       "       [0.52852916],\n",
       "       [0.52662722],\n",
       "       [0.53331924],\n",
       "       [0.53684136],\n",
       "       [0.54952099],\n",
       "       [0.55304311],\n",
       "       [0.55262046],\n",
       "       [0.55128205],\n",
       "       [0.55332488],\n",
       "       [0.55642434],\n",
       "       [0.56121443],\n",
       "       [0.56684982],\n",
       "       [0.5711468 ],\n",
       "       [0.58368555],\n",
       "       [0.58326289],\n",
       "       [0.57959989],\n",
       "       [0.56713159],\n",
       "       [0.57121724],\n",
       "       [0.57727529],\n",
       "       [0.59108199],\n",
       "       [0.58319245],\n",
       "       [0.57178078],\n",
       "       [0.56255283],\n",
       "       [0.56522964],\n",
       "       [0.5651592 ],\n",
       "       [0.56318681],\n",
       "       [0.56015779],\n",
       "       [0.55691744],\n",
       "       [0.56297549],\n",
       "       [0.5581854 ],\n",
       "       [0.56480699],\n",
       "       [0.56903353]])"
      ]
     },
     "execution_count": 87,
     "metadata": {},
     "output_type": "execute_result"
    }
   ],
   "source": [
    "inputs"
   ]
  },
  {
   "cell_type": "code",
   "execution_count": 84,
   "metadata": {},
   "outputs": [
    {
     "data": {
      "text/plain": [
       "array([[157.43],\n",
       "       [157.7 ],\n",
       "       [158.49],\n",
       "       [156.95],\n",
       "       [154.97],\n",
       "       [154.22],\n",
       "       [155.53],\n",
       "       [155.89],\n",
       "       [151.  ],\n",
       "       [152.45],\n",
       "       [152.9 ],\n",
       "       [151.15],\n",
       "       [151.52],\n",
       "       [151.16],\n",
       "       [152.94],\n",
       "       [154.06],\n",
       "       [154.44],\n",
       "       [154.33],\n",
       "       [153.91],\n",
       "       [153.34],\n",
       "       [153.74],\n",
       "       [153.64],\n",
       "       [156.11],\n",
       "       [155.93],\n",
       "       [155.56],\n",
       "       [161.16],\n",
       "       [161.34],\n",
       "       [161.86],\n",
       "       [159.15],\n",
       "       [159.55],\n",
       "       [159.93],\n",
       "       [160.72],\n",
       "       [163.  ],\n",
       "       [163.  ],\n",
       "       [162.38],\n",
       "       [163.19],\n",
       "       [164.66],\n",
       "       [164.41],\n",
       "       [163.8 ],\n",
       "       [162.2 ],\n",
       "       [160.29],\n",
       "       [161.15],\n",
       "       [160.79],\n",
       "       [165.18],\n",
       "       [166.  ],\n",
       "       [166.72],\n",
       "       [166.79],\n",
       "       [169.95],\n",
       "       [169.89],\n",
       "       [169.85],\n",
       "       [169.11],\n",
       "       [167.26],\n",
       "       [168.25],\n",
       "       [167.94],\n",
       "       [168.23],\n",
       "       [167.49],\n",
       "       [167.98],\n",
       "       [167.74],\n",
       "       [166.99],\n",
       "       [166.7 ],\n",
       "       [167.87],\n",
       "       [169.87],\n",
       "       [169.39],\n",
       "       [169.92],\n",
       "       [169.8 ],\n",
       "       [168.09],\n",
       "       [167.76],\n",
       "       [168.01],\n",
       "       [168.48],\n",
       "       [168.18],\n",
       "       [168.59],\n",
       "       [167.45],\n",
       "       [170.64],\n",
       "       [171.25],\n",
       "       [176.  ],\n",
       "       [179.25],\n",
       "       [178.88],\n",
       "       [179.2 ],\n",
       "       [177.07],\n",
       "       [175.58],\n",
       "       [175.7 ],\n",
       "       [174.97],\n",
       "       [176.34],\n",
       "       [175.98],\n",
       "       [178.62],\n",
       "       [177.5 ],\n",
       "       [177.8 ],\n",
       "       [178.87],\n",
       "       [179.9 ],\n",
       "       [180.13],\n",
       "       [181.92],\n",
       "       [182.79],\n",
       "       [181.57],\n",
       "       [180.79],\n",
       "       [181.34],\n",
       "       [182.5 ],\n",
       "       [181.49],\n",
       "       [181.25],\n",
       "       [180.63],\n",
       "       [182.55],\n",
       "       [181.88],\n",
       "       [181.32],\n",
       "       [180.99],\n",
       "       [181.29],\n",
       "       [180.95],\n",
       "       [179.25],\n",
       "       [179.49],\n",
       "       [178.06],\n",
       "       [176.82],\n",
       "       [176.28],\n",
       "       [179.  ],\n",
       "       [176.79],\n",
       "       [176.18],\n",
       "       [176.23],\n",
       "       [175.06],\n",
       "       [175.67],\n",
       "       [175.5 ],\n",
       "       [174.16],\n",
       "       [175.  ],\n",
       "       [174.49],\n",
       "       [174.59],\n",
       "       [174.95],\n",
       "       [174.87],\n",
       "       [174.96],\n",
       "       [176.33],\n",
       "       [173.47],\n",
       "       [172.93],\n",
       "       [172.56],\n",
       "       [171.23],\n",
       "       [171.2 ],\n",
       "       [171.36],\n",
       "       [171.3 ],\n",
       "       [171.69],\n",
       "       [162.64],\n",
       "       [162.4 ],\n",
       "       [162.11],\n",
       "       [161.57],\n",
       "       [162.04],\n",
       "       [161.1 ],\n",
       "       [160.48],\n",
       "       [160.59],\n",
       "       [160.42],\n",
       "       [159.49],\n",
       "       [159.45],\n",
       "       [159.14],\n",
       "       [155.78],\n",
       "       [153.47],\n",
       "       [153.1 ],\n",
       "       [152.37],\n",
       "       [151.15],\n",
       "       [151.26],\n",
       "       [151.83],\n",
       "       [153.99],\n",
       "       [154.14],\n",
       "       [151.33],\n",
       "       [152.46],\n",
       "       [152.84],\n",
       "       [153.68],\n",
       "       [152.76],\n",
       "       [153.73],\n",
       "       [153.  ],\n",
       "       [152.67],\n",
       "       [152.8 ],\n",
       "       [152.87],\n",
       "       [153.2 ],\n",
       "       [152.93],\n",
       "       [152.89],\n",
       "       [154.2 ],\n",
       "       [152.82],\n",
       "       [154.26],\n",
       "       [157.2 ],\n",
       "       [155.48],\n",
       "       [154.94],\n",
       "       [154.69],\n",
       "       [155.42],\n",
       "       [155.86],\n",
       "       [155.39],\n",
       "       [155.79],\n",
       "       [154.99],\n",
       "       [154.68],\n",
       "       [155.75],\n",
       "       [155.34],\n",
       "       [155.55],\n",
       "       [155.74],\n",
       "       [154.5 ],\n",
       "       [156.02],\n",
       "       [155.89],\n",
       "       [153.83],\n",
       "       [153.49],\n",
       "       [153.89],\n",
       "       [153.65],\n",
       "       [154.24],\n",
       "       [154.19],\n",
       "       [154.62],\n",
       "       [153.88],\n",
       "       [154.29],\n",
       "       [150.25],\n",
       "       [148.83],\n",
       "       [147.87],\n",
       "       [147.04],\n",
       "       [147.49],\n",
       "       [146.46],\n",
       "       [145.4 ],\n",
       "       [145.04],\n",
       "       [144.93],\n",
       "       [145.67],\n",
       "       [145.29],\n",
       "       [145.34],\n",
       "       [145.39],\n",
       "       [145.09],\n",
       "       [142.76],\n",
       "       [142.03],\n",
       "       [142.42],\n",
       "       [142.59],\n",
       "       [142.76],\n",
       "       [143.34],\n",
       "       [142.91],\n",
       "       [142.89],\n",
       "       [141.15],\n",
       "       [140.42],\n",
       "       [141.15],\n",
       "       [143.05],\n",
       "       [143.68],\n",
       "       [144.19],\n",
       "       [144.56],\n",
       "       [143.42],\n",
       "       [143.28],\n",
       "       [143.66],\n",
       "       [144.5 ],\n",
       "       [144.36],\n",
       "       [144.47],\n",
       "       [144.64],\n",
       "       [143.15],\n",
       "       [145.13],\n",
       "       [146.37],\n",
       "       [146.29],\n",
       "       [146.38],\n",
       "       [145.17],\n",
       "       [145.48],\n",
       "       [144.98],\n",
       "       [145.88],\n",
       "       [145.89],\n",
       "       [145.59],\n",
       "       [146.03],\n",
       "       [147.42],\n",
       "       [146.9 ],\n",
       "       [145.86],\n",
       "       [145.69],\n",
       "       [146.86],\n",
       "       [147.2 ],\n",
       "       [147.02],\n",
       "       [147.54],\n",
       "       [146.85],\n",
       "       [147.79],\n",
       "       [148.95],\n",
       "       [148.47],\n",
       "       [147.89],\n",
       "       [147.85],\n",
       "       [147.67],\n",
       "       [147.12],\n",
       "       [161.23],\n",
       "       [160.96],\n",
       "       [162.48],\n",
       "       [162.51],\n",
       "       [159.7 ],\n",
       "       [156.37],\n",
       "       [155.12],\n",
       "       [154.63],\n",
       "       [154.59],\n",
       "       [154.93],\n",
       "       [154.9 ],\n",
       "       [154.49],\n",
       "       [153.47],\n",
       "       [151.82],\n",
       "       [151.51],\n",
       "       [151.79],\n",
       "       [151.8 ],\n",
       "       [150.89],\n",
       "       [149.  ],\n",
       "       [148.97],\n",
       "       [148.7 ],\n",
       "       [149.65],\n",
       "       [150.15],\n",
       "       [151.95],\n",
       "       [152.45],\n",
       "       [152.39],\n",
       "       [152.2 ],\n",
       "       [152.49],\n",
       "       [152.93],\n",
       "       [153.61],\n",
       "       [154.41],\n",
       "       [155.02],\n",
       "       [156.8 ],\n",
       "       [156.74],\n",
       "       [156.22],\n",
       "       [154.45],\n",
       "       [155.03],\n",
       "       [155.89],\n",
       "       [157.85],\n",
       "       [156.73],\n",
       "       [155.11],\n",
       "       [153.8 ],\n",
       "       [154.18],\n",
       "       [154.17],\n",
       "       [153.89],\n",
       "       [153.46],\n",
       "       [153.  ],\n",
       "       [153.86],\n",
       "       [153.18],\n",
       "       [154.12],\n",
       "       [154.72]])"
      ]
     },
     "execution_count": 84,
     "metadata": {},
     "output_type": "execute_result"
    }
   ],
   "source": [
    "inputs.reshape(-1,1)"
   ]
  },
  {
   "cell_type": "code",
   "execution_count": 13,
   "metadata": {},
   "outputs": [],
   "source": [
    "# Preparing X_test and predicting the prices\n",
    "X_test = []\n",
    "for i in range(60,311):\n",
    "    X_test.append(inputs[i-60:i,0])\n",
    "X_test = np.array(X_test)\n",
    "X_test = np.reshape(X_test, (X_test.shape[0],X_test.shape[1],1))\n",
    "predicted_stock_price = regressor.predict(X_test)\n",
    "predicted_stock_price = sc.inverse_transform(predicted_stock_price)"
   ]
  },
  {
   "cell_type": "code",
   "execution_count": 14,
   "metadata": {},
   "outputs": [
    {
     "data": {
      "image/png": "[encoded data removed]",
      "text/plain": [
       "<Figure size 432x288 with 1 Axes>"
      ]
     },
     "metadata": {},
     "output_type": "display_data"
    }
   ],
   "source": [
    "# Visualizing the results for LSTM\n",
    "plot_predictions(test_set,predicted_stock_price)"
   ]
  },
  {
   "cell_type": "code",
   "execution_count": 99,
   "metadata": {},
   "outputs": [
    {
     "data": {
      "text/plain": [
       "array([157.43, 157.7 , 158.49, 156.95, 154.97, 154.22, 155.53, 155.89,\n",
       "       151.  , 152.45, 152.9 , 151.15, 151.52, 151.16, 152.94, 154.06,\n",
       "       154.44, 154.33, 153.91, 153.34, 153.74, 153.64, 156.11, 155.93,\n",
       "       155.56, 161.16, 161.34, 161.86, 159.15, 159.55, 159.93, 160.72,\n",
       "       163.  , 163.  , 162.38, 163.19, 164.66, 164.41, 163.8 , 162.2 ,\n",
       "       160.29, 161.15, 160.79, 165.18, 166.  , 166.72, 166.79, 169.95,\n",
       "       169.89, 169.85, 169.11, 167.26, 168.25, 167.94, 168.23, 167.49,\n",
       "       167.98, 167.74, 166.99, 166.7 , 167.87, 169.87, 169.39, 169.92,\n",
       "       169.8 , 168.09, 167.76, 168.01, 168.48, 168.18, 168.59, 167.45,\n",
       "       170.64, 171.25, 176.  , 179.25, 178.88, 179.2 , 177.07, 175.58,\n",
       "       175.7 , 174.97, 176.34, 175.98, 178.62, 177.5 , 177.8 , 178.87,\n",
       "       179.9 , 180.13, 181.92, 182.79, 181.57, 180.79, 181.34, 182.5 ,\n",
       "       181.49, 181.25, 180.63, 182.55, 181.88, 181.32, 180.99, 181.29,\n",
       "       180.95, 179.25, 179.49, 178.06, 176.82, 176.28, 179.  , 176.79,\n",
       "       176.18, 176.23, 175.06, 175.67, 175.5 , 174.16, 175.  , 174.49,\n",
       "       174.59, 174.95, 174.87, 174.96, 176.33, 173.47, 172.93, 172.56,\n",
       "       171.23, 171.2 , 171.36, 171.3 , 171.69, 162.64, 162.4 , 162.11,\n",
       "       161.57, 162.04, 161.1 , 160.48, 160.59, 160.42, 159.49, 159.45,\n",
       "       159.14, 155.78, 153.47, 153.1 , 152.37, 151.15, 151.26, 151.83,\n",
       "       153.99, 154.14, 151.33, 152.46, 152.84, 153.68, 152.76, 153.73,\n",
       "       153.  , 152.67, 152.8 , 152.87, 153.2 , 152.93, 152.89, 154.2 ,\n",
       "       152.82, 154.26, 157.2 , 155.48, 154.94, 154.69, 155.42, 155.86,\n",
       "       155.39, 155.79, 154.99, 154.68, 155.75, 155.34, 155.55, 155.74,\n",
       "       154.5 , 156.02, 155.89, 153.83, 153.49, 153.89, 153.65, 154.24,\n",
       "       154.19, 154.62, 153.88, 154.29, 150.25, 148.83, 147.87, 147.04,\n",
       "       147.49, 146.46, 145.4 , 145.04, 144.93, 145.67, 145.29, 145.34,\n",
       "       145.39, 145.09, 142.76, 142.03, 142.42, 142.59, 142.76, 143.34,\n",
       "       142.91, 142.89, 141.15, 140.42, 141.15, 143.05, 143.68, 144.19,\n",
       "       144.56, 143.42, 143.28, 143.66, 144.5 , 144.36, 144.47, 144.64,\n",
       "       143.15, 145.13, 146.37, 146.29, 146.38, 145.17, 145.48, 144.98,\n",
       "       145.88, 145.89, 145.59, 146.03, 147.42, 146.9 , 145.86, 145.69,\n",
       "       146.86, 147.2 , 147.02, 147.54, 146.85, 147.79, 148.95, 148.47,\n",
       "       147.89, 147.85, 147.67, 147.12, 161.23, 160.96, 162.48, 162.51,\n",
       "       159.7 , 156.37, 155.12, 154.63, 154.59, 154.93, 154.9 , 154.49,\n",
       "       153.47, 151.82, 151.51, 151.79, 151.8 , 150.89, 149.  , 148.97,\n",
       "       148.7 , 149.65, 150.15, 151.95, 152.45, 152.39, 152.2 , 152.49,\n",
       "       152.93, 153.61, 154.41, 155.02, 156.8 , 156.74, 156.22, 154.45,\n",
       "       155.03, 155.89, 157.85, 156.73, 155.11, 153.8 , 154.18, 154.17,\n",
       "       153.89, 153.46, 153.  , 153.86, 153.18, 154.12, 154.72])"
      ]
     },
     "execution_count": 99,
     "metadata": {},
     "output_type": "execute_result"
    }
   ],
   "source": [
    "dataset_total[len(dataset_total)-len(test_set) - 60:].values"
   ]
  },
  {
   "cell_type": "code",
   "execution_count": 105,
   "metadata": {},
   "outputs": [
    {
     "data": {
      "text/plain": [
       "Date\n",
       "2017-12-15    153.80\n",
       "2017-12-18    154.18\n",
       "2017-12-19    154.17\n",
       "2017-12-20    153.89\n",
       "2017-12-21    153.46\n",
       "2017-12-22    153.00\n",
       "2017-12-26    153.86\n",
       "2017-12-27    153.18\n",
       "2017-12-28    154.12\n",
       "2017-12-29    154.72\n",
       "Name: High, dtype: float64"
      ]
     },
     "execution_count": 105,
     "metadata": {},
     "output_type": "execute_result"
    }
   ],
   "source": [
    "dataset[\"2017\":]['High'].tail(10)"
   ]
  },
  {
   "cell_type": "code",
   "execution_count": 106,
   "metadata": {},
   "outputs": [
    {
     "data": {
      "text/plain": [
       "Date\n",
       "2017-12-22    153.00\n",
       "2017-12-26    153.86\n",
       "2017-12-27    153.18\n",
       "2017-12-28    154.12\n",
       "2017-12-29    154.72\n",
       "Name: High, dtype: float64"
      ]
     },
     "execution_count": 106,
     "metadata": {},
     "output_type": "execute_result"
    }
   ],
   "source": [
    "dataset_total.tail()"
   ]
  },
  {
   "cell_type": "code",
   "execution_count": 107,
   "metadata": {},
   "outputs": [
    {
     "data": {
      "text/plain": [
       "Date\n",
       "2017-12-15    153.80\n",
       "2017-12-18    154.18\n",
       "2017-12-19    154.17\n",
       "2017-12-20    153.89\n",
       "2017-12-21    153.46\n",
       "2017-12-22    153.00\n",
       "2017-12-26    153.86\n",
       "2017-12-27    153.18\n",
       "2017-12-28    154.12\n",
       "2017-12-29    154.72\n",
       "Name: High, dtype: float64"
      ]
     },
     "execution_count": 107,
     "metadata": {},
     "output_type": "execute_result"
    }
   ],
   "source": [
    "dataset[:\"2017\"]['High'].tail(10)"
   ]
  },
  {
   "cell_type": "code",
   "execution_count": null,
   "metadata": {},
   "outputs": [],
   "source": []
  }
 ],
 "metadata": {
  "kernelspec": {
   "display_name": "Python 3",
   "language": "python",
   "name": "python3"
  },
  "language_info": {
   "codemirror_mode": {
    "name": "ipython",
    "version": 3
   },
   "file_extension": ".py",
   "mimetype": "text/x-python",
   "name": "python",
   "nbconvert_exporter": "python",
   "pygments_lexer": "ipython3",
   "version": "3.6.5"
  }
 },
 "nbformat": 4,
 "nbformat_minor": 2
}
